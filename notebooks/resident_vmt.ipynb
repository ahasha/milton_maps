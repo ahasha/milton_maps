{
 "cells": [
  {
   "cell_type": "code",
   "execution_count": 1,
   "metadata": {},
   "outputs": [],
   "source": [
    "import pandas as pd\n",
    "import censusdata"
   ]
  },
  {
   "cell_type": "code",
   "execution_count": 2,
   "metadata": {},
   "outputs": [],
   "source": [
    "latch_df = pd.read_csv(\"../data/raw/latch_2017.csv\")"
   ]
  },
  {
   "cell_type": "code",
   "execution_count": 3,
   "metadata": {},
   "outputs": [
    {
     "data": {
      "text/plain": [
       "(73056, 128)"
      ]
     },
     "execution_count": 3,
     "metadata": {},
     "output_type": "execute_result"
    }
   ],
   "source": [
    "latch_df.shape"
   ]
  },
  {
   "cell_type": "code",
   "execution_count": 5,
   "metadata": {},
   "outputs": [
    {
     "data": {
      "text/plain": [
       "Index(['geocode', 'Cluster', 'urban_group', 'flag_acs_lt_moe',\n",
       "       'flag_manhattan_trt', 'flag_gpqtr', 'flag_incomplete_acs', 'est_pmiles',\n",
       "       'est_ptrp', 'est_vmiles',\n",
       "       ...\n",
       "       'vmiles_3mem_0veh', 'vmiles_3mem_1veh', 'vmiles_3mem_2veh',\n",
       "       'vmiles_3mem_3veh', 'vmiles_3mem_4veh', 'vmiles_4mem_0veh',\n",
       "       'vmiles_4mem_1veh', 'vmiles_4mem_2veh', 'vmiles_4mem_3veh',\n",
       "       'vmiles_4mem_4veh'],\n",
       "      dtype='object', length=128)"
      ]
     },
     "execution_count": 5,
     "metadata": {},
     "output_type": "execute_result"
    }
   ],
   "source": [
    "latch_df.columns"
   ]
  },
  {
   "cell_type": "markdown",
   "metadata": {},
   "source": [
    "## Determine which FIP codes are in Milton"
   ]
  },
  {
   "cell_type": "code",
   "execution_count": 8,
   "metadata": {},
   "outputs": [
    {
     "data": {
      "text/plain": [
       "{'Massachusetts': censusgeo((('state', '25'),))}"
      ]
     },
     "execution_count": 8,
     "metadata": {},
     "output_type": "execute_result"
    }
   ],
   "source": [
    "states = censusdata.geographies(censusdata.censusgeo([('state', '25')]), 'acs5', 2020)\n",
    "states"
   ]
  },
  {
   "cell_type": "code",
   "execution_count": 13,
   "metadata": {},
   "outputs": [
    {
     "data": {
      "text/plain": [
       "{'Norfolk County, Massachusetts': censusgeo((('state', '25'), ('county', '021')))}"
      ]
     },
     "execution_count": 13,
     "metadata": {},
     "output_type": "execute_result"
    }
   ],
   "source": [
    "norfolk_county = censusdata.geographies(censusdata.censusgeo([('state', '25'), ('county', '021')]), 'acs5', 2010)\n",
    "norfolk_county"
   ]
  },
  {
   "cell_type": "code",
   "execution_count": 18,
   "metadata": {},
   "outputs": [
    {
     "data": {
      "text/plain": [
       "{'Census Tract 4025, Norfolk County, Massachusetts': censusgeo((('state', '25'), ('county', '021'), ('tract', '402500'))),\n",
       " 'Census Tract 4031, Norfolk County, Massachusetts': censusgeo((('state', '25'), ('county', '021'), ('tract', '403100'))),\n",
       " 'Census Tract 4033, Norfolk County, Massachusetts': censusgeo((('state', '25'), ('county', '021'), ('tract', '403300'))),\n",
       " 'Census Tract 4034, Norfolk County, Massachusetts': censusgeo((('state', '25'), ('county', '021'), ('tract', '403400'))),\n",
       " 'Census Tract 4035.01, Norfolk County, Massachusetts': censusgeo((('state', '25'), ('county', '021'), ('tract', '403501'))),\n",
       " 'Census Tract 4035.02, Norfolk County, Massachusetts': censusgeo((('state', '25'), ('county', '021'), ('tract', '403502'))),\n",
       " 'Census Tract 4041, Norfolk County, Massachusetts': censusgeo((('state', '25'), ('county', '021'), ('tract', '404100'))),\n",
       " 'Census Tract 4042.01, Norfolk County, Massachusetts': censusgeo((('state', '25'), ('county', '021'), ('tract', '404201'))),\n",
       " 'Census Tract 4042.02, Norfolk County, Massachusetts': censusgeo((('state', '25'), ('county', '021'), ('tract', '404202'))),\n",
       " 'Census Tract 4043.01, Norfolk County, Massachusetts': censusgeo((('state', '25'), ('county', '021'), ('tract', '404301'))),\n",
       " 'Census Tract 4043.02, Norfolk County, Massachusetts': censusgeo((('state', '25'), ('county', '021'), ('tract', '404302'))),\n",
       " 'Census Tract 4044, Norfolk County, Massachusetts': censusgeo((('state', '25'), ('county', '021'), ('tract', '404400'))),\n",
       " 'Census Tract 4051, Norfolk County, Massachusetts': censusgeo((('state', '25'), ('county', '021'), ('tract', '405100'))),\n",
       " 'Census Tract 4061.01, Norfolk County, Massachusetts': censusgeo((('state', '25'), ('county', '021'), ('tract', '406101'))),\n",
       " 'Census Tract 4061.02, Norfolk County, Massachusetts': censusgeo((('state', '25'), ('county', '021'), ('tract', '406102'))),\n",
       " 'Census Tract 4071.01, Norfolk County, Massachusetts': censusgeo((('state', '25'), ('county', '021'), ('tract', '407101'))),\n",
       " 'Census Tract 4071.02, Norfolk County, Massachusetts': censusgeo((('state', '25'), ('county', '021'), ('tract', '407102'))),\n",
       " 'Census Tract 4081.02, Norfolk County, Massachusetts': censusgeo((('state', '25'), ('county', '021'), ('tract', '408102'))),\n",
       " 'Census Tract 4081.03, Norfolk County, Massachusetts': censusgeo((('state', '25'), ('county', '021'), ('tract', '408103'))),\n",
       " 'Census Tract 4081.04, Norfolk County, Massachusetts': censusgeo((('state', '25'), ('county', '021'), ('tract', '408104'))),\n",
       " 'Census Tract 4091.01, Norfolk County, Massachusetts': censusgeo((('state', '25'), ('county', '021'), ('tract', '409101'))),\n",
       " 'Census Tract 4091.02, Norfolk County, Massachusetts': censusgeo((('state', '25'), ('county', '021'), ('tract', '409102'))),\n",
       " 'Census Tract 4101, Norfolk County, Massachusetts': censusgeo((('state', '25'), ('county', '021'), ('tract', '410100'))),\n",
       " 'Census Tract 4103, Norfolk County, Massachusetts': censusgeo((('state', '25'), ('county', '021'), ('tract', '410300'))),\n",
       " 'Census Tract 4104, Norfolk County, Massachusetts': censusgeo((('state', '25'), ('county', '021'), ('tract', '410400'))),\n",
       " 'Census Tract 4111.01, Norfolk County, Massachusetts': censusgeo((('state', '25'), ('county', '021'), ('tract', '411101'))),\n",
       " 'Census Tract 4111.02, Norfolk County, Massachusetts': censusgeo((('state', '25'), ('county', '021'), ('tract', '411102'))),\n",
       " 'Census Tract 4112, Norfolk County, Massachusetts': censusgeo((('state', '25'), ('county', '021'), ('tract', '411200'))),\n",
       " 'Census Tract 4113.01, Norfolk County, Massachusetts': censusgeo((('state', '25'), ('county', '021'), ('tract', '411301'))),\n",
       " 'Census Tract 4113.02, Norfolk County, Massachusetts': censusgeo((('state', '25'), ('county', '021'), ('tract', '411302'))),\n",
       " 'Census Tract 4121, Norfolk County, Massachusetts': censusgeo((('state', '25'), ('county', '021'), ('tract', '412100'))),\n",
       " 'Census Tract 4122, Norfolk County, Massachusetts': censusgeo((('state', '25'), ('county', '021'), ('tract', '412200'))),\n",
       " 'Census Tract 4123, Norfolk County, Massachusetts': censusgeo((('state', '25'), ('county', '021'), ('tract', '412300'))),\n",
       " 'Census Tract 4131, Norfolk County, Massachusetts': censusgeo((('state', '25'), ('county', '021'), ('tract', '413100'))),\n",
       " 'Census Tract 4132.01, Norfolk County, Massachusetts': censusgeo((('state', '25'), ('county', '021'), ('tract', '413201'))),\n",
       " 'Census Tract 4132.02, Norfolk County, Massachusetts': censusgeo((('state', '25'), ('county', '021'), ('tract', '413202'))),\n",
       " 'Census Tract 4133, Norfolk County, Massachusetts': censusgeo((('state', '25'), ('county', '021'), ('tract', '413300'))),\n",
       " 'Census Tract 4134.01, Norfolk County, Massachusetts': censusgeo((('state', '25'), ('county', '021'), ('tract', '413401'))),\n",
       " 'Census Tract 4134.02, Norfolk County, Massachusetts': censusgeo((('state', '25'), ('county', '021'), ('tract', '413402'))),\n",
       " 'Census Tract 4135, Norfolk County, Massachusetts': censusgeo((('state', '25'), ('county', '021'), ('tract', '413500'))),\n",
       " 'Census Tract 4141, Norfolk County, Massachusetts': censusgeo((('state', '25'), ('county', '021'), ('tract', '414100'))),\n",
       " 'Census Tract 4142, Norfolk County, Massachusetts': censusgeo((('state', '25'), ('county', '021'), ('tract', '414200'))),\n",
       " 'Census Tract 4143, Norfolk County, Massachusetts': censusgeo((('state', '25'), ('county', '021'), ('tract', '414300'))),\n",
       " 'Census Tract 4151.01, Norfolk County, Massachusetts': censusgeo((('state', '25'), ('county', '021'), ('tract', '415101'))),\n",
       " 'Census Tract 4151.03, Norfolk County, Massachusetts': censusgeo((('state', '25'), ('county', '021'), ('tract', '415103'))),\n",
       " 'Census Tract 4151.04, Norfolk County, Massachusetts': censusgeo((('state', '25'), ('county', '021'), ('tract', '415104'))),\n",
       " 'Census Tract 4152.01, Norfolk County, Massachusetts': censusgeo((('state', '25'), ('county', '021'), ('tract', '415201'))),\n",
       " 'Census Tract 4152.02, Norfolk County, Massachusetts': censusgeo((('state', '25'), ('county', '021'), ('tract', '415202'))),\n",
       " 'Census Tract 4153, Norfolk County, Massachusetts': censusgeo((('state', '25'), ('county', '021'), ('tract', '415300'))),\n",
       " 'Census Tract 4161.01, Norfolk County, Massachusetts': censusgeo((('state', '25'), ('county', '021'), ('tract', '416101'))),\n",
       " 'Census Tract 4161.02, Norfolk County, Massachusetts': censusgeo((('state', '25'), ('county', '021'), ('tract', '416102'))),\n",
       " 'Census Tract 4162, Norfolk County, Massachusetts': censusgeo((('state', '25'), ('county', '021'), ('tract', '416200'))),\n",
       " 'Census Tract 4163, Norfolk County, Massachusetts': censusgeo((('state', '25'), ('county', '021'), ('tract', '416300'))),\n",
       " 'Census Tract 4164, Norfolk County, Massachusetts': censusgeo((('state', '25'), ('county', '021'), ('tract', '416400'))),\n",
       " 'Census Tract 4171, Norfolk County, Massachusetts': censusgeo((('state', '25'), ('county', '021'), ('tract', '417100'))),\n",
       " 'Census Tract 4172.01, Norfolk County, Massachusetts': censusgeo((('state', '25'), ('county', '021'), ('tract', '417201'))),\n",
       " 'Census Tract 4172.02, Norfolk County, Massachusetts': censusgeo((('state', '25'), ('county', '021'), ('tract', '417202'))),\n",
       " 'Census Tract 4173, Norfolk County, Massachusetts': censusgeo((('state', '25'), ('county', '021'), ('tract', '417300'))),\n",
       " 'Census Tract 4174, Norfolk County, Massachusetts': censusgeo((('state', '25'), ('county', '021'), ('tract', '417400'))),\n",
       " 'Census Tract 4175.01, Norfolk County, Massachusetts': censusgeo((('state', '25'), ('county', '021'), ('tract', '417501'))),\n",
       " 'Census Tract 4175.02, Norfolk County, Massachusetts': censusgeo((('state', '25'), ('county', '021'), ('tract', '417502'))),\n",
       " 'Census Tract 4176.01, Norfolk County, Massachusetts': censusgeo((('state', '25'), ('county', '021'), ('tract', '417601'))),\n",
       " 'Census Tract 4176.02, Norfolk County, Massachusetts': censusgeo((('state', '25'), ('county', '021'), ('tract', '417602'))),\n",
       " 'Census Tract 4177.02, Norfolk County, Massachusetts': censusgeo((('state', '25'), ('county', '021'), ('tract', '417702'))),\n",
       " 'Census Tract 4177.03, Norfolk County, Massachusetts': censusgeo((('state', '25'), ('county', '021'), ('tract', '417703'))),\n",
       " 'Census Tract 4177.04, Norfolk County, Massachusetts': censusgeo((('state', '25'), ('county', '021'), ('tract', '417704'))),\n",
       " 'Census Tract 4178.01, Norfolk County, Massachusetts': censusgeo((('state', '25'), ('county', '021'), ('tract', '417801'))),\n",
       " 'Census Tract 4178.02, Norfolk County, Massachusetts': censusgeo((('state', '25'), ('county', '021'), ('tract', '417802'))),\n",
       " 'Census Tract 4179.01, Norfolk County, Massachusetts': censusgeo((('state', '25'), ('county', '021'), ('tract', '417901'))),\n",
       " 'Census Tract 4179.02, Norfolk County, Massachusetts': censusgeo((('state', '25'), ('county', '021'), ('tract', '417902'))),\n",
       " 'Census Tract 4180.02, Norfolk County, Massachusetts': censusgeo((('state', '25'), ('county', '021'), ('tract', '418002'))),\n",
       " 'Census Tract 4180.03, Norfolk County, Massachusetts': censusgeo((('state', '25'), ('county', '021'), ('tract', '418003'))),\n",
       " 'Census Tract 4180.04, Norfolk County, Massachusetts': censusgeo((('state', '25'), ('county', '021'), ('tract', '418004'))),\n",
       " 'Census Tract 4181.01, Norfolk County, Massachusetts': censusgeo((('state', '25'), ('county', '021'), ('tract', '418101'))),\n",
       " 'Census Tract 4181.02, Norfolk County, Massachusetts': censusgeo((('state', '25'), ('county', '021'), ('tract', '418102'))),\n",
       " 'Census Tract 4182.01, Norfolk County, Massachusetts': censusgeo((('state', '25'), ('county', '021'), ('tract', '418201'))),\n",
       " 'Census Tract 4191, Norfolk County, Massachusetts': censusgeo((('state', '25'), ('county', '021'), ('tract', '419100'))),\n",
       " 'Census Tract 4192, Norfolk County, Massachusetts': censusgeo((('state', '25'), ('county', '021'), ('tract', '419200'))),\n",
       " 'Census Tract 4193, Norfolk County, Massachusetts': censusgeo((('state', '25'), ('county', '021'), ('tract', '419300'))),\n",
       " 'Census Tract 4194, Norfolk County, Massachusetts': censusgeo((('state', '25'), ('county', '021'), ('tract', '419400'))),\n",
       " 'Census Tract 4195, Norfolk County, Massachusetts': censusgeo((('state', '25'), ('county', '021'), ('tract', '419500'))),\n",
       " 'Census Tract 4196.01, Norfolk County, Massachusetts': censusgeo((('state', '25'), ('county', '021'), ('tract', '419601'))),\n",
       " 'Census Tract 4196.02, Norfolk County, Massachusetts': censusgeo((('state', '25'), ('county', '021'), ('tract', '419602'))),\n",
       " 'Census Tract 4197, Norfolk County, Massachusetts': censusgeo((('state', '25'), ('county', '021'), ('tract', '419700'))),\n",
       " 'Census Tract 4198, Norfolk County, Massachusetts': censusgeo((('state', '25'), ('county', '021'), ('tract', '419800'))),\n",
       " 'Census Tract 4201.01, Norfolk County, Massachusetts': censusgeo((('state', '25'), ('county', '021'), ('tract', '420101'))),\n",
       " 'Census Tract 4201.02, Norfolk County, Massachusetts': censusgeo((('state', '25'), ('county', '021'), ('tract', '420102'))),\n",
       " 'Census Tract 4202.01, Norfolk County, Massachusetts': censusgeo((('state', '25'), ('county', '021'), ('tract', '420201'))),\n",
       " 'Census Tract 4202.02, Norfolk County, Massachusetts': censusgeo((('state', '25'), ('county', '021'), ('tract', '420202'))),\n",
       " 'Census Tract 4203.01, Norfolk County, Massachusetts': censusgeo((('state', '25'), ('county', '021'), ('tract', '420301'))),\n",
       " 'Census Tract 4203.02, Norfolk County, Massachusetts': censusgeo((('state', '25'), ('county', '021'), ('tract', '420302'))),\n",
       " 'Census Tract 4211, Norfolk County, Massachusetts': censusgeo((('state', '25'), ('county', '021'), ('tract', '421100'))),\n",
       " 'Census Tract 4212, Norfolk County, Massachusetts': censusgeo((('state', '25'), ('county', '021'), ('tract', '421200'))),\n",
       " 'Census Tract 4221, Norfolk County, Massachusetts': censusgeo((('state', '25'), ('county', '021'), ('tract', '422100'))),\n",
       " 'Census Tract 4222.01, Norfolk County, Massachusetts': censusgeo((('state', '25'), ('county', '021'), ('tract', '422201'))),\n",
       " 'Census Tract 4222.02, Norfolk County, Massachusetts': censusgeo((('state', '25'), ('county', '021'), ('tract', '422202'))),\n",
       " 'Census Tract 4223.01, Norfolk County, Massachusetts': censusgeo((('state', '25'), ('county', '021'), ('tract', '422301'))),\n",
       " 'Census Tract 4223.03, Norfolk County, Massachusetts': censusgeo((('state', '25'), ('county', '021'), ('tract', '422303'))),\n",
       " 'Census Tract 4223.04, Norfolk County, Massachusetts': censusgeo((('state', '25'), ('county', '021'), ('tract', '422304'))),\n",
       " 'Census Tract 4224.01, Norfolk County, Massachusetts': censusgeo((('state', '25'), ('county', '021'), ('tract', '422401'))),\n",
       " 'Census Tract 4224.02, Norfolk County, Massachusetts': censusgeo((('state', '25'), ('county', '021'), ('tract', '422402'))),\n",
       " 'Census Tract 4225.01, Norfolk County, Massachusetts': censusgeo((('state', '25'), ('county', '021'), ('tract', '422501'))),\n",
       " 'Census Tract 4225.02, Norfolk County, Massachusetts': censusgeo((('state', '25'), ('county', '021'), ('tract', '422502'))),\n",
       " 'Census Tract 4226, Norfolk County, Massachusetts': censusgeo((('state', '25'), ('county', '021'), ('tract', '422600'))),\n",
       " 'Census Tract 4227, Norfolk County, Massachusetts': censusgeo((('state', '25'), ('county', '021'), ('tract', '422700'))),\n",
       " 'Census Tract 4228, Norfolk County, Massachusetts': censusgeo((('state', '25'), ('county', '021'), ('tract', '422800'))),\n",
       " 'Census Tract 4231.01, Norfolk County, Massachusetts': censusgeo((('state', '25'), ('county', '021'), ('tract', '423101'))),\n",
       " 'Census Tract 4231.02, Norfolk County, Massachusetts': censusgeo((('state', '25'), ('county', '021'), ('tract', '423102'))),\n",
       " 'Census Tract 4401.01, Norfolk County, Massachusetts': censusgeo((('state', '25'), ('county', '021'), ('tract', '440101'))),\n",
       " 'Census Tract 4401.02, Norfolk County, Massachusetts': censusgeo((('state', '25'), ('county', '021'), ('tract', '440102'))),\n",
       " 'Census Tract 4412.02, Norfolk County, Massachusetts': censusgeo((('state', '25'), ('county', '021'), ('tract', '441202'))),\n",
       " 'Census Tract 4412.03, Norfolk County, Massachusetts': censusgeo((('state', '25'), ('county', '021'), ('tract', '441203'))),\n",
       " 'Census Tract 4412.04, Norfolk County, Massachusetts': censusgeo((('state', '25'), ('county', '021'), ('tract', '441204'))),\n",
       " 'Census Tract 4421.01, Norfolk County, Massachusetts': censusgeo((('state', '25'), ('county', '021'), ('tract', '442101'))),\n",
       " 'Census Tract 4421.03, Norfolk County, Massachusetts': censusgeo((('state', '25'), ('county', '021'), ('tract', '442103'))),\n",
       " 'Census Tract 4421.04, Norfolk County, Massachusetts': censusgeo((('state', '25'), ('county', '021'), ('tract', '442104'))),\n",
       " 'Census Tract 4421.05, Norfolk County, Massachusetts': censusgeo((('state', '25'), ('county', '021'), ('tract', '442105'))),\n",
       " 'Census Tract 4422.01, Norfolk County, Massachusetts': censusgeo((('state', '25'), ('county', '021'), ('tract', '442201'))),\n",
       " 'Census Tract 4422.03, Norfolk County, Massachusetts': censusgeo((('state', '25'), ('county', '021'), ('tract', '442203'))),\n",
       " 'Census Tract 4422.04, Norfolk County, Massachusetts': censusgeo((('state', '25'), ('county', '021'), ('tract', '442204'))),\n",
       " 'Census Tract 4431.03, Norfolk County, Massachusetts': censusgeo((('state', '25'), ('county', '021'), ('tract', '443103'))),\n",
       " 'Census Tract 4431.04, Norfolk County, Massachusetts': censusgeo((('state', '25'), ('county', '021'), ('tract', '443104'))),\n",
       " 'Census Tract 4431.05, Norfolk County, Massachusetts': censusgeo((('state', '25'), ('county', '021'), ('tract', '443105'))),\n",
       " 'Census Tract 4431.06, Norfolk County, Massachusetts': censusgeo((('state', '25'), ('county', '021'), ('tract', '443106'))),\n",
       " 'Census Tract 4561.01, Norfolk County, Massachusetts': censusgeo((('state', '25'), ('county', '021'), ('tract', '456101'))),\n",
       " 'Census Tract 4561.02, Norfolk County, Massachusetts': censusgeo((('state', '25'), ('county', '021'), ('tract', '456102'))),\n",
       " 'Census Tract 4562, Norfolk County, Massachusetts': censusgeo((('state', '25'), ('county', '021'), ('tract', '456200'))),\n",
       " 'Census Tract 4563.01, Norfolk County, Massachusetts': censusgeo((('state', '25'), ('county', '021'), ('tract', '456301'))),\n",
       " 'Census Tract 4563.02, Norfolk County, Massachusetts': censusgeo((('state', '25'), ('county', '021'), ('tract', '456302'))),\n",
       " 'Census Tract 4564.01, Norfolk County, Massachusetts': censusgeo((('state', '25'), ('county', '021'), ('tract', '456401'))),\n",
       " 'Census Tract 4564.02, Norfolk County, Massachusetts': censusgeo((('state', '25'), ('county', '021'), ('tract', '456402'))),\n",
       " 'Census Tract 4571, Norfolk County, Massachusetts': censusgeo((('state', '25'), ('county', '021'), ('tract', '457100'))),\n",
       " 'Census Tract 4572, Norfolk County, Massachusetts': censusgeo((('state', '25'), ('county', '021'), ('tract', '457200'))),\n",
       " 'Census Tract 9800, Norfolk County, Massachusetts': censusgeo((('state', '25'), ('county', '021'), ('tract', '980000'))),\n",
       " 'Census Tract 4001, Norfolk County, Massachusetts': censusgeo((('state', '25'), ('county', '021'), ('tract', '400100'))),\n",
       " 'Census Tract 4002.01, Norfolk County, Massachusetts': censusgeo((('state', '25'), ('county', '021'), ('tract', '400201'))),\n",
       " 'Census Tract 4002.02, Norfolk County, Massachusetts': censusgeo((('state', '25'), ('county', '021'), ('tract', '400202'))),\n",
       " 'Census Tract 4003, Norfolk County, Massachusetts': censusgeo((('state', '25'), ('county', '021'), ('tract', '400300'))),\n",
       " 'Census Tract 4004.01, Norfolk County, Massachusetts': censusgeo((('state', '25'), ('county', '021'), ('tract', '400401'))),\n",
       " 'Census Tract 4004.02, Norfolk County, Massachusetts': censusgeo((('state', '25'), ('county', '021'), ('tract', '400402'))),\n",
       " 'Census Tract 4005, Norfolk County, Massachusetts': censusgeo((('state', '25'), ('county', '021'), ('tract', '400500'))),\n",
       " 'Census Tract 4006, Norfolk County, Massachusetts': censusgeo((('state', '25'), ('county', '021'), ('tract', '400600'))),\n",
       " 'Census Tract 4007, Norfolk County, Massachusetts': censusgeo((('state', '25'), ('county', '021'), ('tract', '400700'))),\n",
       " 'Census Tract 4008, Norfolk County, Massachusetts': censusgeo((('state', '25'), ('county', '021'), ('tract', '400800'))),\n",
       " 'Census Tract 4009, Norfolk County, Massachusetts': censusgeo((('state', '25'), ('county', '021'), ('tract', '400900'))),\n",
       " 'Census Tract 4010, Norfolk County, Massachusetts': censusgeo((('state', '25'), ('county', '021'), ('tract', '401000'))),\n",
       " 'Census Tract 4011, Norfolk County, Massachusetts': censusgeo((('state', '25'), ('county', '021'), ('tract', '401100'))),\n",
       " 'Census Tract 4012.01, Norfolk County, Massachusetts': censusgeo((('state', '25'), ('county', '021'), ('tract', '401201'))),\n",
       " 'Census Tract 4012.02, Norfolk County, Massachusetts': censusgeo((('state', '25'), ('county', '021'), ('tract', '401202'))),\n",
       " 'Census Tract 4021.01, Norfolk County, Massachusetts': censusgeo((('state', '25'), ('county', '021'), ('tract', '402101'))),\n",
       " 'Census Tract 4021.02, Norfolk County, Massachusetts': censusgeo((('state', '25'), ('county', '021'), ('tract', '402102'))),\n",
       " 'Census Tract 4022, Norfolk County, Massachusetts': censusgeo((('state', '25'), ('county', '021'), ('tract', '402200'))),\n",
       " 'Census Tract 4023, Norfolk County, Massachusetts': censusgeo((('state', '25'), ('county', '021'), ('tract', '402300'))),\n",
       " 'Census Tract 4024, Norfolk County, Massachusetts': censusgeo((('state', '25'), ('county', '021'), ('tract', '402400')))}"
      ]
     },
     "execution_count": 18,
     "metadata": {},
     "output_type": "execute_result"
    }
   ],
   "source": [
    "milton = censusdata.geographies(censusdata.censusgeo([('state', '25'), ('county', '021'), ('tract', '*')]), 'acs5', 2020)\n",
    "milton"
   ]
  },
  {
   "cell_type": "code",
   "execution_count": 35,
   "metadata": {},
   "outputs": [
    {
     "data": {
      "text/html": [
       "<div>\n",
       "<style scoped>\n",
       "    .dataframe tbody tr th:only-of-type {\n",
       "        vertical-align: middle;\n",
       "    }\n",
       "\n",
       "    .dataframe tbody tr th {\n",
       "        vertical-align: top;\n",
       "    }\n",
       "\n",
       "    .dataframe thead th {\n",
       "        text-align: right;\n",
       "    }\n",
       "</style>\n",
       "<table border=\"1\" class=\"dataframe\">\n",
       "  <thead>\n",
       "    <tr style=\"text-align: right;\">\n",
       "      <th></th>\n",
       "      <th>geocode</th>\n",
       "      <th>Cluster</th>\n",
       "      <th>urban_group</th>\n",
       "      <th>flag_acs_lt_moe</th>\n",
       "      <th>flag_manhattan_trt</th>\n",
       "      <th>flag_gpqtr</th>\n",
       "      <th>flag_incomplete_acs</th>\n",
       "      <th>est_pmiles</th>\n",
       "      <th>est_ptrp</th>\n",
       "      <th>est_vmiles</th>\n",
       "      <th>...</th>\n",
       "      <th>vmiles_3mem_0veh</th>\n",
       "      <th>vmiles_3mem_1veh</th>\n",
       "      <th>vmiles_3mem_2veh</th>\n",
       "      <th>vmiles_3mem_3veh</th>\n",
       "      <th>vmiles_3mem_4veh</th>\n",
       "      <th>vmiles_4mem_0veh</th>\n",
       "      <th>vmiles_4mem_1veh</th>\n",
       "      <th>vmiles_4mem_2veh</th>\n",
       "      <th>vmiles_4mem_3veh</th>\n",
       "      <th>vmiles_4mem_4veh</th>\n",
       "    </tr>\n",
       "  </thead>\n",
       "  <tbody>\n",
       "    <tr>\n",
       "      <th>1079</th>\n",
       "      <td>25021417200</td>\n",
       "      <td>1</td>\n",
       "      <td>1.0</td>\n",
       "      <td>0</td>\n",
       "      <td>0</td>\n",
       "      <td>0</td>\n",
       "      <td>0</td>\n",
       "      <td>39.27</td>\n",
       "      <td>7.78</td>\n",
       "      <td>23.21</td>\n",
       "      <td>...</td>\n",
       "      <td>5.83</td>\n",
       "      <td>21.37</td>\n",
       "      <td>38.99</td>\n",
       "      <td>39.11</td>\n",
       "      <td>39.4</td>\n",
       "      <td>5.95</td>\n",
       "      <td>21.49</td>\n",
       "      <td>39.12</td>\n",
       "      <td>39.24</td>\n",
       "      <td>39.53</td>\n",
       "    </tr>\n",
       "  </tbody>\n",
       "</table>\n",
       "<p>1 rows × 128 columns</p>\n",
       "</div>"
      ],
      "text/plain": [
       "          geocode  Cluster  urban_group  flag_acs_lt_moe  flag_manhattan_trt  \\\n",
       "1079  25021417200        1          1.0                0                   0   \n",
       "\n",
       "      flag_gpqtr  flag_incomplete_acs  est_pmiles  est_ptrp  est_vmiles  ...  \\\n",
       "1079           0                    0       39.27      7.78       23.21  ...   \n",
       "\n",
       "      vmiles_3mem_0veh  vmiles_3mem_1veh  vmiles_3mem_2veh  vmiles_3mem_3veh  \\\n",
       "1079              5.83             21.37             38.99             39.11   \n",
       "\n",
       "      vmiles_3mem_4veh  vmiles_4mem_0veh  vmiles_4mem_1veh  vmiles_4mem_2veh  \\\n",
       "1079              39.4              5.95             21.49             39.12   \n",
       "\n",
       "      vmiles_4mem_3veh  vmiles_4mem_4veh  \n",
       "1079             39.24             39.53  \n",
       "\n",
       "[1 rows x 128 columns]"
      ]
     },
     "execution_count": 35,
     "metadata": {},
     "output_type": "execute_result"
    }
   ],
   "source": [
    "latch_df.loc[latch_df.geocode.astype(str).str.startswith(\"250214172\")]"
   ]
  },
  {
   "cell_type": "code",
   "execution_count": 29,
   "metadata": {},
   "outputs": [],
   "source": [
    "milton_fips = [\n",
    "  \"25021416101\",\n",
    "  \"25021416102\",\n",
    "  \"25021416200\",\n",
    "  \"25021416300\",\n",
    "  \"25021416400\",\n",
    "  \"25021417202\",\n",
    "]"
   ]
  },
  {
   "cell_type": "code",
   "execution_count": 30,
   "metadata": {},
   "outputs": [
    {
     "data": {
      "text/plain": [
       "'\\ntracts:\\n  - 4161.01\\n  - 4161.02\\n  - 4162\\n  - 4163\\n  - 4164\\n  - 4172.02\\n\\nFIPS:\\n  - 25021416101\\n  - 25021416102\\n  - 25021416200\\n  - 25021416300\\n  - 25021416400\\n  - 25021417202\\n'"
      ]
     },
     "execution_count": 30,
     "metadata": {},
     "output_type": "execute_result"
    }
   ],
   "source": [
    "# By visual inspection, I think these are the tracts\n",
    "\"\"\"\n",
    "tracts:\n",
    "  - 4161.01\n",
    "  - 4161.02\n",
    "  - 4162\n",
    "  - 4163\n",
    "  - 4164\n",
    "  - 4172.02\n",
    "\n",
    "FIPS:\n",
    "  - 25021416101\n",
    "  - 25021416102\n",
    "  - 25021416200\n",
    "  - 25021416300\n",
    "  - 25021416400\n",
    "  - 25021417202\n",
    "\"\"\""
   ]
  },
  {
   "cell_type": "code",
   "execution_count": 41,
   "metadata": {},
   "outputs": [
    {
     "data": {
      "text/html": [
       "<div>\n",
       "<style scoped>\n",
       "    .dataframe tbody tr th:only-of-type {\n",
       "        vertical-align: middle;\n",
       "    }\n",
       "\n",
       "    .dataframe tbody tr th {\n",
       "        vertical-align: top;\n",
       "    }\n",
       "\n",
       "    .dataframe thead th {\n",
       "        text-align: right;\n",
       "    }\n",
       "</style>\n",
       "<table border=\"1\" class=\"dataframe\">\n",
       "  <thead>\n",
       "    <tr style=\"text-align: right;\">\n",
       "      <th></th>\n",
       "      <th>est_vmiles</th>\n",
       "      <th>hh_cnt</th>\n",
       "    </tr>\n",
       "    <tr>\n",
       "      <th>geocode</th>\n",
       "      <th></th>\n",
       "      <th></th>\n",
       "    </tr>\n",
       "  </thead>\n",
       "  <tbody>\n",
       "    <tr>\n",
       "      <th>25021416200</th>\n",
       "      <td>32.51</td>\n",
       "      <td>2246</td>\n",
       "    </tr>\n",
       "    <tr>\n",
       "      <th>25021416300</th>\n",
       "      <td>29.40</td>\n",
       "      <td>1787</td>\n",
       "    </tr>\n",
       "    <tr>\n",
       "      <th>25021416400</th>\n",
       "      <td>32.62</td>\n",
       "      <td>2039</td>\n",
       "    </tr>\n",
       "    <tr>\n",
       "      <th>25021416101</th>\n",
       "      <td>48.53</td>\n",
       "      <td>1987</td>\n",
       "    </tr>\n",
       "    <tr>\n",
       "      <th>25021416102</th>\n",
       "      <td>41.30</td>\n",
       "      <td>921</td>\n",
       "    </tr>\n",
       "  </tbody>\n",
       "</table>\n",
       "</div>"
      ],
      "text/plain": [
       "             est_vmiles  hh_cnt\n",
       "geocode                        \n",
       "25021416200       32.51    2246\n",
       "25021416300       29.40    1787\n",
       "25021416400       32.62    2039\n",
       "25021416101       48.53    1987\n",
       "25021416102       41.30     921"
      ]
     },
     "execution_count": 41,
     "metadata": {},
     "output_type": "execute_result"
    }
   ],
   "source": [
    "census_vmt = latch_df.loc[latch_df.geocode.astype(str).isin(milton_fips), [\"geocode\", \"est_vmiles\", \"hh_cnt\"]].set_index(\"geocode\")\n",
    "census_vmt"
   ]
  },
  {
   "cell_type": "code",
   "execution_count": 43,
   "metadata": {},
   "outputs": [
    {
     "data": {
      "text/plain": [
       "geocode\n",
       "25021416200    18984539.6\n",
       "25021416300    13659828.0\n",
       "25021416400    17293166.8\n",
       "25021416101    25071568.6\n",
       "25021416102     9889698.0\n",
       "dtype: float64"
      ]
     },
     "execution_count": 43,
     "metadata": {},
     "output_type": "execute_result"
    }
   ],
   "source": [
    "weekdays_per_year = 52*5\n",
    "annual_vmt = census_vmt[\"est_vmiles\"]*census_vmt[\"hh_cnt\"]*weekdays_per_year\n",
    "annual_vmt"
   ]
  },
  {
   "cell_type": "code",
   "execution_count": 44,
   "metadata": {},
   "outputs": [
    {
     "data": {
      "text/plain": [
       "84898801.0"
      ]
     },
     "execution_count": 44,
     "metadata": {},
     "output_type": "execute_result"
    }
   ],
   "source": [
    "annual_vmt.sum()"
   ]
  },
  {
   "cell_type": "markdown",
   "metadata": {},
   "source": [
    "From 2017 GHG inventory, annual miles driven within Milton\n",
    "\n",
    "```\n",
    "Passenger Car\t\t\t\t277,922,972\n",
    "Light-Duty Truck\t\t\t\t45,162,483\n",
    "Medium- and Heavy-Duty Truck\t24,318,260\n",
    "```"
   ]
  },
  {
   "cell_type": "code",
   "execution_count": 51,
   "metadata": {},
   "outputs": [
    {
     "name": "stdout",
     "output_type": "stream",
     "text": [
      "According to DOT, 347403715 miles were driven in Milton in 2017.\n",
      "80.0% were in passenger cars, 13.000000014392477% in light duty trucks, 6.9999999856075235 in medium and heavy-duty trucks\n"
     ]
    }
   ],
   "source": [
    "total_vmt_in_milton = 277922972 + 45162483 + 24318260\n",
    "pct_passenger = 277922972 / total_vmt_in_milton\n",
    "pct_ld_truck = 45162483 / total_vmt_in_milton\n",
    "pct_mhd_truck = 24318260 / total_vmt_in_milton\n",
    "\n",
    "print(f\"According to DOT, {total_vmt_in_milton} miles were driven in Milton in 2017.\")\n",
    "print(f\"{100*pct_passenger}% were in passenger cars, {100*pct_ld_truck}% in light duty trucks, {100*pct_mhd_truck} in medium and heavy-duty trucks\")"
   ]
  },
  {
   "cell_type": "markdown",
   "metadata": {},
   "source": [
    "Total weekday vehicle mileage by residents of Milton in 2017 was roughly 25% of the vehicle mileage within Milton during that year.  Note that the former is not a subset of the latter, as it would include miles driven outside Milton limits by Milton residents.\n",
    "\n",
    "Nonetheless, this suggests that if we think in terms of the carbon footprint of Milton residents' activities of daily living, home heating and electricity are far and away the largest source of emissions."
   ]
  },
  {
   "cell_type": "code",
   "execution_count": 52,
   "metadata": {},
   "outputs": [
    {
     "data": {
      "text/plain": [
       "0.24438080922652194"
      ]
     },
     "execution_count": 52,
     "metadata": {},
     "output_type": "execute_result"
    }
   ],
   "source": [
    "annual_vmt.sum() / total_vmt_in_milton"
   ]
  },
  {
   "cell_type": "code",
   "execution_count": null,
   "metadata": {},
   "outputs": [],
   "source": []
  },
  {
   "cell_type": "markdown",
   "metadata": {},
   "source": []
  }
 ],
 "metadata": {
  "kernelspec": {
   "display_name": "milton-maps",
   "language": "python",
   "name": "python3"
  },
  "language_info": {
   "codemirror_mode": {
    "name": "ipython",
    "version": 3
   },
   "file_extension": ".py",
   "mimetype": "text/x-python",
   "name": "python",
   "nbconvert_exporter": "python",
   "pygments_lexer": "ipython3",
   "version": "3.11.4"
  },
  "orig_nbformat": 4
 },
 "nbformat": 4,
 "nbformat_minor": 2
}
