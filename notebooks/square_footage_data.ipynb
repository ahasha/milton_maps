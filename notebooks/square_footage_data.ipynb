{
 "cells": [
  {
   "cell_type": "code",
   "execution_count": 1,
   "metadata": {},
   "outputs": [
    {
     "name": "stderr",
     "output_type": "stream",
     "text": [
      "/Users/alexhasha/Library/Caches/pypoetry/virtualenvs/milton-maps-gfMaDXEA-py3.10/lib/python3.10/site-packages/geopandas/_compat.py:123: UserWarning: The Shapely GEOS version (3.10.3-CAPI-1.16.1) is incompatible with the GEOS version PyGEOS was compiled with (3.10.4-CAPI-1.16.2). Conversions between both will be slow.\n",
      "  warnings.warn(\n"
     ]
    }
   ],
   "source": [
    "import joblib\n",
    "import pandas as pd\n",
    "import milton_maps as mm"
   ]
  },
  {
   "cell_type": "code",
   "execution_count": 2,
   "metadata": {},
   "outputs": [
    {
     "data": {
      "text/plain": [
       "(32387, 28)"
      ]
     },
     "execution_count": 2,
     "metadata": {},
     "output_type": "execute_result"
    }
   ],
   "source": [
    "residential_tax_parcels = joblib.load(\"../data/processed/residential_tax_parcels.pkl\")\n",
    "residential_tax_parcels.shape"
   ]
  },
  {
   "cell_type": "code",
   "execution_count": 3,
   "metadata": {},
   "outputs": [
    {
     "data": {
      "text/html": [
       "<div>\n",
       "<style scoped>\n",
       "    .dataframe tbody tr th:only-of-type {\n",
       "        vertical-align: middle;\n",
       "    }\n",
       "\n",
       "    .dataframe tbody tr th {\n",
       "        vertical-align: top;\n",
       "    }\n",
       "\n",
       "    .dataframe thead th {\n",
       "        text-align: right;\n",
       "    }\n",
       "</style>\n",
       "<table border=\"1\" class=\"dataframe\">\n",
       "  <thead>\n",
       "    <tr style=\"text-align: right;\">\n",
       "      <th></th>\n",
       "      <th>SHAPE_Leng</th>\n",
       "      <th>SHAPE_Area</th>\n",
       "      <th>MAP_PAR_ID</th>\n",
       "      <th>POLY_TYPE</th>\n",
       "      <th>MAP_NO</th>\n",
       "      <th>SOURCE</th>\n",
       "      <th>PLAN_ID</th>\n",
       "      <th>LAST_EDIT</th>\n",
       "      <th>BND_CHK</th>\n",
       "      <th>NO_MATCH</th>\n",
       "      <th>...</th>\n",
       "      <th>USE_DESCRIPTION</th>\n",
       "      <th>RES_AREA</th>\n",
       "      <th>ZONING</th>\n",
       "      <th>UNITS</th>\n",
       "      <th>STYLE</th>\n",
       "      <th>LOT_SIZE</th>\n",
       "      <th>TOTAL_VAL</th>\n",
       "      <th>LAND_VAL</th>\n",
       "      <th>SITE_ADDR</th>\n",
       "      <th>IS_RESIDENTIAL</th>\n",
       "    </tr>\n",
       "    <tr>\n",
       "      <th>LOC_ID</th>\n",
       "      <th></th>\n",
       "      <th></th>\n",
       "      <th></th>\n",
       "      <th></th>\n",
       "      <th></th>\n",
       "      <th></th>\n",
       "      <th></th>\n",
       "      <th></th>\n",
       "      <th></th>\n",
       "      <th></th>\n",
       "      <th></th>\n",
       "      <th></th>\n",
       "      <th></th>\n",
       "      <th></th>\n",
       "      <th></th>\n",
       "      <th></th>\n",
       "      <th></th>\n",
       "      <th></th>\n",
       "      <th></th>\n",
       "      <th></th>\n",
       "      <th></th>\n",
       "    </tr>\n",
       "  </thead>\n",
       "  <tbody>\n",
       "    <tr>\n",
       "      <th>189M 2 6</th>\n",
       "      <td>NaN</td>\n",
       "      <td>NaN</td>\n",
       "      <td>NaN</td>\n",
       "      <td>NaN</td>\n",
       "      <td>NaN</td>\n",
       "      <td>NaN</td>\n",
       "      <td>NaN</td>\n",
       "      <td>NaN</td>\n",
       "      <td>NaN</td>\n",
       "      <td>NaN</td>\n",
       "      <td>...</td>\n",
       "      <td>Condominium</td>\n",
       "      <td>2525.0</td>\n",
       "      <td>PUD</td>\n",
       "      <td>1.0</td>\n",
       "      <td>CONDO-TNHS</td>\n",
       "      <td>0.0000</td>\n",
       "      <td>1240900.0</td>\n",
       "      <td>0.0</td>\n",
       "      <td>8 WOLCOTT WOODS LN</td>\n",
       "      <td>True</td>\n",
       "    </tr>\n",
       "    <tr>\n",
       "      <th>2436080Q_22_22</th>\n",
       "      <td>NaN</td>\n",
       "      <td>NaN</td>\n",
       "      <td>NaN</td>\n",
       "      <td>NaN</td>\n",
       "      <td>NaN</td>\n",
       "      <td>NaN</td>\n",
       "      <td>NaN</td>\n",
       "      <td>NaN</td>\n",
       "      <td>NaN</td>\n",
       "      <td>NaN</td>\n",
       "      <td>...</td>\n",
       "      <td>Single Family</td>\n",
       "      <td>2344.0</td>\n",
       "      <td>NaN</td>\n",
       "      <td>0.0</td>\n",
       "      <td>Conventional</td>\n",
       "      <td>0.1433</td>\n",
       "      <td>315400.0</td>\n",
       "      <td>315400.0</td>\n",
       "      <td>186 ESSEX ST</td>\n",
       "      <td>True</td>\n",
       "    </tr>\n",
       "    <tr>\n",
       "      <th>F_757603_2907021</th>\n",
       "      <td>718.018773</td>\n",
       "      <td>21213.803766</td>\n",
       "      <td>A 10 1B</td>\n",
       "      <td>FEE</td>\n",
       "      <td>A</td>\n",
       "      <td>ASSESS</td>\n",
       "      <td>A-9-10</td>\n",
       "      <td>20180101.0</td>\n",
       "      <td>NaN</td>\n",
       "      <td>N</td>\n",
       "      <td>...</td>\n",
       "      <td>Single Family</td>\n",
       "      <td>3057.0</td>\n",
       "      <td>RAA</td>\n",
       "      <td>1.0</td>\n",
       "      <td>CONTEMPORY</td>\n",
       "      <td>2.1900</td>\n",
       "      <td>1459500.0</td>\n",
       "      <td>656200.0</td>\n",
       "      <td>1259 BRUSH HILL RD</td>\n",
       "      <td>True</td>\n",
       "    </tr>\n",
       "    <tr>\n",
       "      <th>F_757686_2912486</th>\n",
       "      <td>234.162104</td>\n",
       "      <td>3303.047646</td>\n",
       "      <td>A 17 6</td>\n",
       "      <td>FEE</td>\n",
       "      <td>A</td>\n",
       "      <td>OTHER</td>\n",
       "      <td>A-15-16-17</td>\n",
       "      <td>20120120.0</td>\n",
       "      <td>NaN</td>\n",
       "      <td>N</td>\n",
       "      <td>...</td>\n",
       "      <td>Single Family</td>\n",
       "      <td>1914.0</td>\n",
       "      <td>RA</td>\n",
       "      <td>1.0</td>\n",
       "      <td>SPLIT ENT</td>\n",
       "      <td>0.8000</td>\n",
       "      <td>701200.0</td>\n",
       "      <td>468100.0</td>\n",
       "      <td>10 BIG BLUE DR</td>\n",
       "      <td>True</td>\n",
       "    </tr>\n",
       "    <tr>\n",
       "      <th>F_757794_2912249</th>\n",
       "      <td>185.421545</td>\n",
       "      <td>1746.824432</td>\n",
       "      <td>A 15 28</td>\n",
       "      <td>FEE</td>\n",
       "      <td>A</td>\n",
       "      <td>OTHER</td>\n",
       "      <td>A-15-16-17</td>\n",
       "      <td>20120120.0</td>\n",
       "      <td>NaN</td>\n",
       "      <td>N</td>\n",
       "      <td>...</td>\n",
       "      <td>Single Family</td>\n",
       "      <td>1680.0</td>\n",
       "      <td>RA</td>\n",
       "      <td>1.0</td>\n",
       "      <td>COLONIAL</td>\n",
       "      <td>0.4000</td>\n",
       "      <td>807200.0</td>\n",
       "      <td>438600.0</td>\n",
       "      <td>9 BIG BLUE DR</td>\n",
       "      <td>True</td>\n",
       "    </tr>\n",
       "  </tbody>\n",
       "</table>\n",
       "<p>5 rows × 28 columns</p>\n",
       "</div>"
      ],
      "text/plain": [
       "                  SHAPE_Leng    SHAPE_Area MAP_PAR_ID POLY_TYPE MAP_NO  \\\n",
       "LOC_ID                                                                   \n",
       "189M 2 6                 NaN           NaN        NaN       NaN    NaN   \n",
       "2436080Q_22_22           NaN           NaN        NaN       NaN    NaN   \n",
       "F_757603_2907021  718.018773  21213.803766    A 10 1B       FEE      A   \n",
       "F_757686_2912486  234.162104   3303.047646     A 17 6       FEE      A   \n",
       "F_757794_2912249  185.421545   1746.824432    A 15 28       FEE      A   \n",
       "\n",
       "                  SOURCE     PLAN_ID   LAST_EDIT BND_CHK NO_MATCH  ...  \\\n",
       "LOC_ID                                                             ...   \n",
       "189M 2 6             NaN         NaN         NaN     NaN      NaN  ...   \n",
       "2436080Q_22_22       NaN         NaN         NaN     NaN      NaN  ...   \n",
       "F_757603_2907021  ASSESS      A-9-10  20180101.0     NaN        N  ...   \n",
       "F_757686_2912486   OTHER  A-15-16-17  20120120.0     NaN        N  ...   \n",
       "F_757794_2912249   OTHER  A-15-16-17  20120120.0     NaN        N  ...   \n",
       "\n",
       "                  USE_DESCRIPTION RES_AREA  ZONING  UNITS         STYLE  \\\n",
       "LOC_ID                                                                    \n",
       "189M 2 6              Condominium   2525.0     PUD    1.0    CONDO-TNHS   \n",
       "2436080Q_22_22      Single Family   2344.0     NaN    0.0  Conventional   \n",
       "F_757603_2907021    Single Family   3057.0     RAA    1.0    CONTEMPORY   \n",
       "F_757686_2912486    Single Family   1914.0      RA    1.0     SPLIT ENT   \n",
       "F_757794_2912249    Single Family   1680.0      RA    1.0      COLONIAL   \n",
       "\n",
       "                 LOT_SIZE  TOTAL_VAL  LAND_VAL           SITE_ADDR  \\\n",
       "LOC_ID                                                               \n",
       "189M 2 6           0.0000  1240900.0       0.0  8 WOLCOTT WOODS LN   \n",
       "2436080Q_22_22     0.1433   315400.0  315400.0        186 ESSEX ST   \n",
       "F_757603_2907021   2.1900  1459500.0  656200.0  1259 BRUSH HILL RD   \n",
       "F_757686_2912486   0.8000   701200.0  468100.0      10 BIG BLUE DR   \n",
       "F_757794_2912249   0.4000   807200.0  438600.0       9 BIG BLUE DR   \n",
       "\n",
       "                  IS_RESIDENTIAL  \n",
       "LOC_ID                            \n",
       "189M 2 6                    True  \n",
       "2436080Q_22_22              True  \n",
       "F_757603_2907021            True  \n",
       "F_757686_2912486            True  \n",
       "F_757794_2912249            True  \n",
       "\n",
       "[5 rows x 28 columns]"
      ]
     },
     "execution_count": 3,
     "metadata": {},
     "output_type": "execute_result"
    }
   ],
   "source": [
    "residential_tax_parcels.head()"
   ]
  },
  {
   "cell_type": "code",
   "execution_count": 4,
   "metadata": {},
   "outputs": [
    {
     "data": {
      "text/plain": [
       "Index(['SHAPE_Leng', 'SHAPE_Area', 'MAP_PAR_ID', 'POLY_TYPE', 'MAP_NO',\n",
       "       'SOURCE', 'PLAN_ID', 'LAST_EDIT', 'BND_CHK', 'NO_MATCH', 'TOWN_ID',\n",
       "       'geometry', 'Shape_Leng', 'Shape_Area', 'PROP_ID', 'LOC_ID', 'TOWN',\n",
       "       'YEAR_BUILT', 'USE_DESCRIPTION', 'RES_AREA', 'ZONING', 'UNITS', 'STYLE',\n",
       "       'LOT_SIZE', 'TOTAL_VAL', 'LAND_VAL', 'SITE_ADDR', 'IS_RESIDENTIAL'],\n",
       "      dtype='object')"
      ]
     },
     "execution_count": 4,
     "metadata": {},
     "output_type": "execute_result"
    }
   ],
   "source": [
    "residential_tax_parcels.columns"
   ]
  },
  {
   "cell_type": "code",
   "execution_count": 5,
   "metadata": {},
   "outputs": [
    {
     "data": {
      "text/plain": [
       "array([ nan, 189., 243.])"
      ]
     },
     "execution_count": 5,
     "metadata": {},
     "output_type": "execute_result"
    }
   ],
   "source": [
    "residential_tax_parcels.TOWN_ID.unique()"
   ]
  },
  {
   "cell_type": "code",
   "execution_count": 6,
   "metadata": {},
   "outputs": [],
   "source": [
    "residential_tax_parcels.to_csv(\"~/Downloads/milton_quincy_residential_parcels.csv\")"
   ]
  },
  {
   "cell_type": "code",
   "execution_count": null,
   "metadata": {},
   "outputs": [],
   "source": []
  }
 ],
 "metadata": {
  "kernelspec": {
   "display_name": "Python 3 (ipykernel)",
   "language": "python",
   "name": "python3"
  },
  "language_info": {
   "codemirror_mode": {
    "name": "ipython",
    "version": 3
   },
   "file_extension": ".py",
   "mimetype": "text/x-python",
   "name": "python",
   "nbconvert_exporter": "python",
   "pygments_lexer": "ipython3",
   "version": "3.10.12"
  }
 },
 "nbformat": 4,
 "nbformat_minor": 1
}
